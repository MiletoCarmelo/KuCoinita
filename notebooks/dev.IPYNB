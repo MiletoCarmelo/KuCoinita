{
 "cells": [
  {
   "cell_type": "markdown",
   "metadata": {},
   "source": [
    "KuCoin Part :"
   ]
  },
  {
   "cell_type": "code",
   "execution_count": 31,
   "metadata": {},
   "outputs": [],
   "source": [
    "# get the unixtime \n",
    "import time\n",
    "unixtime = int(time.time())"
   ]
  },
  {
   "cell_type": "code",
   "execution_count": 32,
   "metadata": {},
   "outputs": [],
   "source": [
    "# create api request : \n",
    "req = \"https://api.kucoin.com/api/v1/market/allTickers?timestamp={}\".format(unixtime)"
   ]
  },
  {
   "cell_type": "code",
   "execution_count": 33,
   "metadata": {},
   "outputs": [],
   "source": [
    "# request the api\n",
    "import requests\n",
    "r = requests.get(req)\n",
    "# convert to dataframe\n",
    "import pandas as pd\n",
    "df = pd.DataFrame(r.json()['data']['ticker'])\n",
    "# get time stamp \n",
    "df['timestamp'] = r.json()['data']['time']\n",
    "# arrange by vol desc \n",
    "df = df.sort_values(by='vol', ascending=False)\n"
   ]
  },
  {
   "cell_type": "code",
   "execution_count": 34,
   "metadata": {},
   "outputs": [],
   "source": [
    "# get date from timestamp column\n",
    "from datetime import datetime\n",
    "df['date'] = df['timestamp'].apply(lambda x: datetime.fromtimestamp(x/1000.0).strftime('%Y-%m-%d'))"
   ]
  },
  {
   "cell_type": "code",
   "execution_count": 35,
   "metadata": {},
   "outputs": [],
   "source": [
    "# convert columns type to numeric\n",
    "df['symbol'] = df['symbol'].astype('str')\n",
    "df['symbolName'] = df['symbolName'].astype('str')\n",
    "df['buy'] = df['buy'].astype('float')\n",
    "df['bestBidSize'] = df['bestBidSize'].astype('float')\n",
    "df['sell'] = df['sell'].astype('float')\n",
    "df['bestAskSize'] = df['bestAskSize'].astype('float')\n",
    "df['changePrice'] = df['changePrice'].astype('float')\n",
    "df['changeRate'] = df['changeRate'].astype('float')\n",
    "df['high'] = df['high'].astype('float')\n",
    "df['low'] = df['low'].astype('float')\n",
    "df['vol'] = df['vol'].astype('float')\n",
    "df['volValue'] = df['volValue'].astype('float')\n",
    "df['last'] = df['last'].astype('float')\n",
    "df['averagePrice'] = df['averagePrice'].astype('float')\n",
    "df['takerFeeRate'] = df['takerFeeRate'].astype('float')\n",
    "df['makerFeeRate'] = df['makerFeeRate'].astype('float')\n",
    "df['takerCoefficient'] = df['takerCoefficient'].astype('float')\n",
    "df['makerCoefficient'] = df['makerCoefficient'].astype('float')\n",
    "df['timestamp'] = df['timestamp'].astype('int')\n",
    "# convert date column to datetime with format '%Y-%m-%d'\n",
    "df['date'] = pd.to_datetime(df['date'], format='%Y-%m-%d')"
   ]
  },
  {
   "cell_type": "code",
   "execution_count": 36,
   "metadata": {},
   "outputs": [],
   "source": [
    "time_label = df['date'].unique()[0]"
   ]
  },
  {
   "cell_type": "code",
   "execution_count": 47,
   "metadata": {},
   "outputs": [
    {
     "name": "stdout",
     "output_type": "stream",
     "text": [
      "No folders or files found in Google Drive.\n"
     ]
    }
   ],
   "source": [
    "import os\n",
    "# add ../src to the system path\n",
    "import sys\n",
    "sys.path.append('../src')\n",
    "# import google_drive module\n",
    "import GoogleDrive as gd\n",
    "# if file kucoin_daily.xlsm exists in google drive download it\n",
    "list_file = gd.list_files('1iTMazQALR7EgoRuxp-T3yTMXNWMUgGHX')\n",
    "# if list_file is null replace it with empty dataframe with name column empty: \n",
    "if list_file.empty:\n",
    "    list_file = pd.DataFrame(columns=['name', 'id'])\n",
    "if 'kucoin_daily.xlsx' in list_file.name.values:\n",
    "    file_id = list_file[list_file.name == 'kucoin_daily.xlsx'].id.values[0]\n",
    "    gd.download_file(file_id, '../outputs/kucoin_daily.xlsx')\n",
    "if os.path.isfile('../outputs/kucoin_overall.xlsx') == True:\n",
    "    os.remove('../outputs/kucoin_overall.xlsx')\n",
    "if 'kucoin_daily.xlsx' in list_file.name.values:\n",
    "    file_id = list_file[list_file.name == 'kucoin_overall.xlsx'].id.values[0]\n",
    "    gd.download_file(file_id, '../outputs/kucoin_overall.xlsx')"
   ]
  },
  {
   "cell_type": "code",
   "execution_count": 48,
   "metadata": {},
   "outputs": [],
   "source": [
    "import os\n",
    "if os.path.isfile('../outputs/kucoin_daily.xlsx') == False:\n",
    "    df.to_excel('../outputs/kucoin_daily.xlsx',index=False, sheet_name= time_label.strftime('%Y-%m-%d'))\n",
    "else:\n",
    "    with pd.ExcelWriter('../outputs/kucoin_daily.xlsx', mode=\"a\", engine=\"openpyxl\", if_sheet_exists='overlay') as writer:\n",
    "        df.to_excel(writer, sheet_name=time_label.strftime('%Y-%m-%d'), index=False) "
   ]
  },
  {
   "cell_type": "code",
   "execution_count": 49,
   "metadata": {},
   "outputs": [],
   "source": [
    "# import old data\n",
    "if os.path.isfile('../outputs/kucoin_overall.xlsx'):\n",
    "    old_data = pd.read_excel('../outputs/kucoin_overall.xlsx', sheet_name=None)\n",
    "    # get the sheet names\n",
    "    sheet_names = list(old_data.keys())\n",
    "    # get the first sheet data : \n",
    "    old_data = old_data[sheet_names[0]]\n",
    "    old_data = old_data._append(df)\n",
    "else : \n",
    "    old_data = df\n",
    "# sort by date desc and symbol asc\n",
    "old_data.sort_values(by=['date', 'symbol'], ascending=[False, True], inplace=True)\n",
    "# remove file if exists\n",
    "if os.path.isfile('../outputs/kucoin_overall.xlsx'):\n",
    "    os.remove('../outputs/kucoin_overall.xlsx')\n",
    "# write to excel\n",
    "with pd.ExcelWriter('../outputs/kucoin_overall.xlsx', engine=\"openpyxl\") as writer:\n",
    "    old_data.to_excel(writer, sheet_name=\"overall\", index=False)"
   ]
  },
  {
   "cell_type": "code",
   "execution_count": 64,
   "metadata": {
    "vscode": {
     "languageId": "shellscript"
    }
   },
   "outputs": [
    {
     "name": "stdout",
     "output_type": "stream",
     "text": [
      "No folders or files found in Google Drive.\n"
     ]
    }
   ],
   "source": [
    "list_ids = gd.list_files('1iTMazQALR7EgoRuxp-T3yTMXNWMUgGHX')\n",
    "# if list_ids is none replace it with dataframe of id column empty : \n",
    "if list_ids.empty:\n",
    "    list_ids = pd.DataFrame(columns=['name', 'id'])"
   ]
  },
  {
   "cell_type": "code",
   "execution_count": 65,
   "metadata": {
    "vscode": {
     "languageId": "shellscript"
    }
   },
   "outputs": [],
   "source": [
    "for i in list_ids.id:\n",
    "    gd.delete_files(i)"
   ]
  },
  {
   "cell_type": "code",
   "execution_count": 66,
   "metadata": {
    "vscode": {
     "languageId": "shellscript"
    }
   },
   "outputs": [],
   "source": [
    "# gd.update_file_shared_user_list( file_id = \"1iTMazQALR7EgoRuxp-T3yTMXNWMUgGHX\",email=\"wolfkanb@gmail.com\", role='writer', type='user')\n",
    "# gd.update_file_shared_user_list( file_id = \"1iTMazQALR7EgoRuxp-T3yTMXNWMUgGHX\",email=\"rmateus90@gmail.com\", role='writer', type='user')\n",
    "# gd.update_file_shared_user_list( file_id = \"1iTMazQALR7EgoRuxp-T3yTMXNWMUgGHX\",email=\"carmelo.mileto@gmail.com\", role='writer', type='user')"
   ]
  },
  {
   "cell_type": "code",
   "execution_count": 67,
   "metadata": {
    "vscode": {
     "languageId": "shellscript"
    }
   },
   "outputs": [
    {
     "name": "stdout",
     "output_type": "stream",
     "text": [
      "File ID: 1ngRtgAOT4pltldlYmb8cbSRwysX41TKQ\n",
      "File ID: 1i8F-86-f47qQwNPDzaGRXdzyvkVK2Vlx\n"
     ]
    }
   ],
   "source": [
    "sys.path.insert(0, '../outputs')\n",
    "id1 = gd.upload_file( file_path='../outputs/kucoin_daily.xlsx', folder_parent_id='1iTMazQALR7EgoRuxp-T3yTMXNWMUgGHX')\n",
    "id2 = gd.upload_file( file_path='../outputs/kucoin_overall.xlsx', folder_parent_id='1iTMazQALR7EgoRuxp-T3yTMXNWMUgGHX')"
   ]
  },
  {
   "cell_type": "code",
   "execution_count": 68,
   "metadata": {
    "vscode": {
     "languageId": "shellscript"
    }
   },
   "outputs": [],
   "source": [
    "# gd.update_file_shared_user_list( file_id = id1,email=\"wolfkanb@gmail.com\", role='writer', type='user')\n",
    "# gd.update_file_shared_user_list( file_id = id1,email=\"rmateus90@gmail.com\", role='writer', type='user')\n",
    "# gd.update_file_shared_user_list( file_id = id1,email=\"carmelo.mileto@gmail.com\", role='writer', type='user')"
   ]
  },
  {
   "cell_type": "code",
   "execution_count": 69,
   "metadata": {
    "vscode": {
     "languageId": "shellscript"
    }
   },
   "outputs": [],
   "source": [
    "# gd.update_file_shared_user_list( file_id = id2,email=\"wolfkanb@gmail.com\", role='writer', type='user')\n",
    "# gd.update_file_shared_user_list( file_id = id2,email=\"rmateus90@gmail.com\", role='writer', type='user')\n",
    "# gd.update_file_shared_user_list( file_id = id2,email=\"carmelo.mileto@gmail.com\", role='writer', type='user')"
   ]
  },
  {
   "cell_type": "code",
   "execution_count": null,
   "metadata": {
    "vscode": {
     "languageId": "shellscript"
    }
   },
   "outputs": [],
   "source": []
  }
 ],
 "metadata": {
  "kernelspec": {
   "display_name": "Python 3",
   "language": "python",
   "name": "python3"
  },
  "language_info": {
   "codemirror_mode": {
    "name": "ipython",
    "version": 3
   },
   "file_extension": ".py",
   "mimetype": "text/x-python",
   "name": "python",
   "nbconvert_exporter": "python",
   "pygments_lexer": "ipython3",
   "version": "3.10.8"
  }
 },
 "nbformat": 4,
 "nbformat_minor": 2
}
